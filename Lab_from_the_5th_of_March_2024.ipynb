{
  "nbformat": 4,
  "nbformat_minor": 0,
  "metadata": {
    "colab": {
      "provenance": []
    },
    "kernelspec": {
      "name": "python3",
      "display_name": "Python 3"
    },
    "language_info": {
      "name": "python"
    }
  },
  "cells": [
    {
      "cell_type": "code",
      "source": [
        "from google.colab import drive\n",
        "drive.mount('/content/drive')"
      ],
      "metadata": {
        "colab": {
          "base_uri": "https://localhost:8080/"
        },
        "id": "XnDC2YX9KUcP",
        "outputId": "7c8fc49f-099f-4388-f4f8-db040ce1fdcb"
      },
      "execution_count": 1,
      "outputs": [
        {
          "output_type": "stream",
          "name": "stdout",
          "text": [
            "Drive already mounted at /content/drive; to attempt to forcibly remount, call drive.mount(\"/content/drive\", force_remount=True).\n"
          ]
        }
      ]
    },
    {
      "cell_type": "code",
      "source": [
        "!pip install pandas\n",
        "import pandas as pd\n",
        "\n",
        "\n",
        "df = pd.read_csv('/content/drive/MyDrive/Ironhack/unit 7 - Python/7.01/learningSet.csv')\n",
        "\n",
        "df.head()"
      ],
      "metadata": {
        "colab": {
          "base_uri": "https://localhost:8080/",
          "height": 381
        },
        "id": "jRa33OGrKbfe",
        "outputId": "3516fd1d-e16f-4c5b-ec32-f59210783b95"
      },
      "execution_count": 2,
      "outputs": [
        {
          "output_type": "stream",
          "name": "stdout",
          "text": [
            "Requirement already satisfied: pandas in /usr/local/lib/python3.10/dist-packages (1.5.3)\n",
            "Requirement already satisfied: python-dateutil>=2.8.1 in /usr/local/lib/python3.10/dist-packages (from pandas) (2.8.2)\n",
            "Requirement already satisfied: pytz>=2020.1 in /usr/local/lib/python3.10/dist-packages (from pandas) (2023.4)\n",
            "Requirement already satisfied: numpy>=1.21.0 in /usr/local/lib/python3.10/dist-packages (from pandas) (1.25.2)\n",
            "Requirement already satisfied: six>=1.5 in /usr/local/lib/python3.10/dist-packages (from python-dateutil>=2.8.1->pandas) (1.16.0)\n"
          ]
        },
        {
          "output_type": "stream",
          "name": "stderr",
          "text": [
            "<ipython-input-2-7cc9494df7fa>:5: DtypeWarning: Columns (8) have mixed types. Specify dtype option on import or set low_memory=False.\n",
            "  df = pd.read_csv('/content/drive/MyDrive/Ironhack/unit 7 - Python/7.01/learningSet.csv')\n"
          ]
        },
        {
          "output_type": "execute_result",
          "data": {
            "text/plain": [
              "   ODATEDW OSOURCE  TCODE STATE    ZIP MAILCODE PVASTATE   DOB NOEXCH  \\\n",
              "0     8901     GRI      0    IL  61081                    3712      0   \n",
              "1     9401     BOA      1    CA  91326                    5202      0   \n",
              "2     9001     AMH      1    NC  27017                       0      0   \n",
              "3     8701     BRY      0    CA  95953                    2801      0   \n",
              "4     8601              0    FL  33176                    2001      0   \n",
              "\n",
              "  RECINHSE  ... TARGET_D HPHONE_D RFA_2R RFA_2F RFA_2A MDMAUD_R  MDMAUD_F  \\\n",
              "0           ...      0.0        0      L      4      E        X         X   \n",
              "1           ...      0.0        0      L      2      G        X         X   \n",
              "2           ...      0.0        1      L      4      E        X         X   \n",
              "3           ...      0.0        1      L      4      E        X         X   \n",
              "4        X  ...      0.0        1      L      2      F        X         X   \n",
              "\n",
              "  MDMAUD_A CLUSTER2 GEOCODE2  \n",
              "0        X     39.0        C  \n",
              "1        X      1.0        A  \n",
              "2        X     60.0        C  \n",
              "3        X     41.0        C  \n",
              "4        X     26.0        A  \n",
              "\n",
              "[5 rows x 481 columns]"
            ],
            "text/html": [
              "\n",
              "  <div id=\"df-305c0617-2708-4e77-823d-1f7f6a477151\" class=\"colab-df-container\">\n",
              "    <div>\n",
              "<style scoped>\n",
              "    .dataframe tbody tr th:only-of-type {\n",
              "        vertical-align: middle;\n",
              "    }\n",
              "\n",
              "    .dataframe tbody tr th {\n",
              "        vertical-align: top;\n",
              "    }\n",
              "\n",
              "    .dataframe thead th {\n",
              "        text-align: right;\n",
              "    }\n",
              "</style>\n",
              "<table border=\"1\" class=\"dataframe\">\n",
              "  <thead>\n",
              "    <tr style=\"text-align: right;\">\n",
              "      <th></th>\n",
              "      <th>ODATEDW</th>\n",
              "      <th>OSOURCE</th>\n",
              "      <th>TCODE</th>\n",
              "      <th>STATE</th>\n",
              "      <th>ZIP</th>\n",
              "      <th>MAILCODE</th>\n",
              "      <th>PVASTATE</th>\n",
              "      <th>DOB</th>\n",
              "      <th>NOEXCH</th>\n",
              "      <th>RECINHSE</th>\n",
              "      <th>...</th>\n",
              "      <th>TARGET_D</th>\n",
              "      <th>HPHONE_D</th>\n",
              "      <th>RFA_2R</th>\n",
              "      <th>RFA_2F</th>\n",
              "      <th>RFA_2A</th>\n",
              "      <th>MDMAUD_R</th>\n",
              "      <th>MDMAUD_F</th>\n",
              "      <th>MDMAUD_A</th>\n",
              "      <th>CLUSTER2</th>\n",
              "      <th>GEOCODE2</th>\n",
              "    </tr>\n",
              "  </thead>\n",
              "  <tbody>\n",
              "    <tr>\n",
              "      <th>0</th>\n",
              "      <td>8901</td>\n",
              "      <td>GRI</td>\n",
              "      <td>0</td>\n",
              "      <td>IL</td>\n",
              "      <td>61081</td>\n",
              "      <td></td>\n",
              "      <td></td>\n",
              "      <td>3712</td>\n",
              "      <td>0</td>\n",
              "      <td></td>\n",
              "      <td>...</td>\n",
              "      <td>0.0</td>\n",
              "      <td>0</td>\n",
              "      <td>L</td>\n",
              "      <td>4</td>\n",
              "      <td>E</td>\n",
              "      <td>X</td>\n",
              "      <td>X</td>\n",
              "      <td>X</td>\n",
              "      <td>39.0</td>\n",
              "      <td>C</td>\n",
              "    </tr>\n",
              "    <tr>\n",
              "      <th>1</th>\n",
              "      <td>9401</td>\n",
              "      <td>BOA</td>\n",
              "      <td>1</td>\n",
              "      <td>CA</td>\n",
              "      <td>91326</td>\n",
              "      <td></td>\n",
              "      <td></td>\n",
              "      <td>5202</td>\n",
              "      <td>0</td>\n",
              "      <td></td>\n",
              "      <td>...</td>\n",
              "      <td>0.0</td>\n",
              "      <td>0</td>\n",
              "      <td>L</td>\n",
              "      <td>2</td>\n",
              "      <td>G</td>\n",
              "      <td>X</td>\n",
              "      <td>X</td>\n",
              "      <td>X</td>\n",
              "      <td>1.0</td>\n",
              "      <td>A</td>\n",
              "    </tr>\n",
              "    <tr>\n",
              "      <th>2</th>\n",
              "      <td>9001</td>\n",
              "      <td>AMH</td>\n",
              "      <td>1</td>\n",
              "      <td>NC</td>\n",
              "      <td>27017</td>\n",
              "      <td></td>\n",
              "      <td></td>\n",
              "      <td>0</td>\n",
              "      <td>0</td>\n",
              "      <td></td>\n",
              "      <td>...</td>\n",
              "      <td>0.0</td>\n",
              "      <td>1</td>\n",
              "      <td>L</td>\n",
              "      <td>4</td>\n",
              "      <td>E</td>\n",
              "      <td>X</td>\n",
              "      <td>X</td>\n",
              "      <td>X</td>\n",
              "      <td>60.0</td>\n",
              "      <td>C</td>\n",
              "    </tr>\n",
              "    <tr>\n",
              "      <th>3</th>\n",
              "      <td>8701</td>\n",
              "      <td>BRY</td>\n",
              "      <td>0</td>\n",
              "      <td>CA</td>\n",
              "      <td>95953</td>\n",
              "      <td></td>\n",
              "      <td></td>\n",
              "      <td>2801</td>\n",
              "      <td>0</td>\n",
              "      <td></td>\n",
              "      <td>...</td>\n",
              "      <td>0.0</td>\n",
              "      <td>1</td>\n",
              "      <td>L</td>\n",
              "      <td>4</td>\n",
              "      <td>E</td>\n",
              "      <td>X</td>\n",
              "      <td>X</td>\n",
              "      <td>X</td>\n",
              "      <td>41.0</td>\n",
              "      <td>C</td>\n",
              "    </tr>\n",
              "    <tr>\n",
              "      <th>4</th>\n",
              "      <td>8601</td>\n",
              "      <td></td>\n",
              "      <td>0</td>\n",
              "      <td>FL</td>\n",
              "      <td>33176</td>\n",
              "      <td></td>\n",
              "      <td></td>\n",
              "      <td>2001</td>\n",
              "      <td>0</td>\n",
              "      <td>X</td>\n",
              "      <td>...</td>\n",
              "      <td>0.0</td>\n",
              "      <td>1</td>\n",
              "      <td>L</td>\n",
              "      <td>2</td>\n",
              "      <td>F</td>\n",
              "      <td>X</td>\n",
              "      <td>X</td>\n",
              "      <td>X</td>\n",
              "      <td>26.0</td>\n",
              "      <td>A</td>\n",
              "    </tr>\n",
              "  </tbody>\n",
              "</table>\n",
              "<p>5 rows × 481 columns</p>\n",
              "</div>\n",
              "    <div class=\"colab-df-buttons\">\n",
              "\n",
              "  <div class=\"colab-df-container\">\n",
              "    <button class=\"colab-df-convert\" onclick=\"convertToInteractive('df-305c0617-2708-4e77-823d-1f7f6a477151')\"\n",
              "            title=\"Convert this dataframe to an interactive table.\"\n",
              "            style=\"display:none;\">\n",
              "\n",
              "  <svg xmlns=\"http://www.w3.org/2000/svg\" height=\"24px\" viewBox=\"0 -960 960 960\">\n",
              "    <path d=\"M120-120v-720h720v720H120Zm60-500h600v-160H180v160Zm220 220h160v-160H400v160Zm0 220h160v-160H400v160ZM180-400h160v-160H180v160Zm440 0h160v-160H620v160ZM180-180h160v-160H180v160Zm440 0h160v-160H620v160Z\"/>\n",
              "  </svg>\n",
              "    </button>\n",
              "\n",
              "  <style>\n",
              "    .colab-df-container {\n",
              "      display:flex;\n",
              "      gap: 12px;\n",
              "    }\n",
              "\n",
              "    .colab-df-convert {\n",
              "      background-color: #E8F0FE;\n",
              "      border: none;\n",
              "      border-radius: 50%;\n",
              "      cursor: pointer;\n",
              "      display: none;\n",
              "      fill: #1967D2;\n",
              "      height: 32px;\n",
              "      padding: 0 0 0 0;\n",
              "      width: 32px;\n",
              "    }\n",
              "\n",
              "    .colab-df-convert:hover {\n",
              "      background-color: #E2EBFA;\n",
              "      box-shadow: 0px 1px 2px rgba(60, 64, 67, 0.3), 0px 1px 3px 1px rgba(60, 64, 67, 0.15);\n",
              "      fill: #174EA6;\n",
              "    }\n",
              "\n",
              "    .colab-df-buttons div {\n",
              "      margin-bottom: 4px;\n",
              "    }\n",
              "\n",
              "    [theme=dark] .colab-df-convert {\n",
              "      background-color: #3B4455;\n",
              "      fill: #D2E3FC;\n",
              "    }\n",
              "\n",
              "    [theme=dark] .colab-df-convert:hover {\n",
              "      background-color: #434B5C;\n",
              "      box-shadow: 0px 1px 3px 1px rgba(0, 0, 0, 0.15);\n",
              "      filter: drop-shadow(0px 1px 2px rgba(0, 0, 0, 0.3));\n",
              "      fill: #FFFFFF;\n",
              "    }\n",
              "  </style>\n",
              "\n",
              "    <script>\n",
              "      const buttonEl =\n",
              "        document.querySelector('#df-305c0617-2708-4e77-823d-1f7f6a477151 button.colab-df-convert');\n",
              "      buttonEl.style.display =\n",
              "        google.colab.kernel.accessAllowed ? 'block' : 'none';\n",
              "\n",
              "      async function convertToInteractive(key) {\n",
              "        const element = document.querySelector('#df-305c0617-2708-4e77-823d-1f7f6a477151');\n",
              "        const dataTable =\n",
              "          await google.colab.kernel.invokeFunction('convertToInteractive',\n",
              "                                                    [key], {});\n",
              "        if (!dataTable) return;\n",
              "\n",
              "        const docLinkHtml = 'Like what you see? Visit the ' +\n",
              "          '<a target=\"_blank\" href=https://colab.research.google.com/notebooks/data_table.ipynb>data table notebook</a>'\n",
              "          + ' to learn more about interactive tables.';\n",
              "        element.innerHTML = '';\n",
              "        dataTable['output_type'] = 'display_data';\n",
              "        await google.colab.output.renderOutput(dataTable, element);\n",
              "        const docLink = document.createElement('div');\n",
              "        docLink.innerHTML = docLinkHtml;\n",
              "        element.appendChild(docLink);\n",
              "      }\n",
              "    </script>\n",
              "  </div>\n",
              "\n",
              "\n",
              "<div id=\"df-5b8b522c-e72d-4847-93a7-a2d1e38ffc65\">\n",
              "  <button class=\"colab-df-quickchart\" onclick=\"quickchart('df-5b8b522c-e72d-4847-93a7-a2d1e38ffc65')\"\n",
              "            title=\"Suggest charts\"\n",
              "            style=\"display:none;\">\n",
              "\n",
              "<svg xmlns=\"http://www.w3.org/2000/svg\" height=\"24px\"viewBox=\"0 0 24 24\"\n",
              "     width=\"24px\">\n",
              "    <g>\n",
              "        <path d=\"M19 3H5c-1.1 0-2 .9-2 2v14c0 1.1.9 2 2 2h14c1.1 0 2-.9 2-2V5c0-1.1-.9-2-2-2zM9 17H7v-7h2v7zm4 0h-2V7h2v10zm4 0h-2v-4h2v4z\"/>\n",
              "    </g>\n",
              "</svg>\n",
              "  </button>\n",
              "\n",
              "<style>\n",
              "  .colab-df-quickchart {\n",
              "      --bg-color: #E8F0FE;\n",
              "      --fill-color: #1967D2;\n",
              "      --hover-bg-color: #E2EBFA;\n",
              "      --hover-fill-color: #174EA6;\n",
              "      --disabled-fill-color: #AAA;\n",
              "      --disabled-bg-color: #DDD;\n",
              "  }\n",
              "\n",
              "  [theme=dark] .colab-df-quickchart {\n",
              "      --bg-color: #3B4455;\n",
              "      --fill-color: #D2E3FC;\n",
              "      --hover-bg-color: #434B5C;\n",
              "      --hover-fill-color: #FFFFFF;\n",
              "      --disabled-bg-color: #3B4455;\n",
              "      --disabled-fill-color: #666;\n",
              "  }\n",
              "\n",
              "  .colab-df-quickchart {\n",
              "    background-color: var(--bg-color);\n",
              "    border: none;\n",
              "    border-radius: 50%;\n",
              "    cursor: pointer;\n",
              "    display: none;\n",
              "    fill: var(--fill-color);\n",
              "    height: 32px;\n",
              "    padding: 0;\n",
              "    width: 32px;\n",
              "  }\n",
              "\n",
              "  .colab-df-quickchart:hover {\n",
              "    background-color: var(--hover-bg-color);\n",
              "    box-shadow: 0 1px 2px rgba(60, 64, 67, 0.3), 0 1px 3px 1px rgba(60, 64, 67, 0.15);\n",
              "    fill: var(--button-hover-fill-color);\n",
              "  }\n",
              "\n",
              "  .colab-df-quickchart-complete:disabled,\n",
              "  .colab-df-quickchart-complete:disabled:hover {\n",
              "    background-color: var(--disabled-bg-color);\n",
              "    fill: var(--disabled-fill-color);\n",
              "    box-shadow: none;\n",
              "  }\n",
              "\n",
              "  .colab-df-spinner {\n",
              "    border: 2px solid var(--fill-color);\n",
              "    border-color: transparent;\n",
              "    border-bottom-color: var(--fill-color);\n",
              "    animation:\n",
              "      spin 1s steps(1) infinite;\n",
              "  }\n",
              "\n",
              "  @keyframes spin {\n",
              "    0% {\n",
              "      border-color: transparent;\n",
              "      border-bottom-color: var(--fill-color);\n",
              "      border-left-color: var(--fill-color);\n",
              "    }\n",
              "    20% {\n",
              "      border-color: transparent;\n",
              "      border-left-color: var(--fill-color);\n",
              "      border-top-color: var(--fill-color);\n",
              "    }\n",
              "    30% {\n",
              "      border-color: transparent;\n",
              "      border-left-color: var(--fill-color);\n",
              "      border-top-color: var(--fill-color);\n",
              "      border-right-color: var(--fill-color);\n",
              "    }\n",
              "    40% {\n",
              "      border-color: transparent;\n",
              "      border-right-color: var(--fill-color);\n",
              "      border-top-color: var(--fill-color);\n",
              "    }\n",
              "    60% {\n",
              "      border-color: transparent;\n",
              "      border-right-color: var(--fill-color);\n",
              "    }\n",
              "    80% {\n",
              "      border-color: transparent;\n",
              "      border-right-color: var(--fill-color);\n",
              "      border-bottom-color: var(--fill-color);\n",
              "    }\n",
              "    90% {\n",
              "      border-color: transparent;\n",
              "      border-bottom-color: var(--fill-color);\n",
              "    }\n",
              "  }\n",
              "</style>\n",
              "\n",
              "  <script>\n",
              "    async function quickchart(key) {\n",
              "      const quickchartButtonEl =\n",
              "        document.querySelector('#' + key + ' button');\n",
              "      quickchartButtonEl.disabled = true;  // To prevent multiple clicks.\n",
              "      quickchartButtonEl.classList.add('colab-df-spinner');\n",
              "      try {\n",
              "        const charts = await google.colab.kernel.invokeFunction(\n",
              "            'suggestCharts', [key], {});\n",
              "      } catch (error) {\n",
              "        console.error('Error during call to suggestCharts:', error);\n",
              "      }\n",
              "      quickchartButtonEl.classList.remove('colab-df-spinner');\n",
              "      quickchartButtonEl.classList.add('colab-df-quickchart-complete');\n",
              "    }\n",
              "    (() => {\n",
              "      let quickchartButtonEl =\n",
              "        document.querySelector('#df-5b8b522c-e72d-4847-93a7-a2d1e38ffc65 button');\n",
              "      quickchartButtonEl.style.display =\n",
              "        google.colab.kernel.accessAllowed ? 'block' : 'none';\n",
              "    })();\n",
              "  </script>\n",
              "</div>\n",
              "    </div>\n",
              "  </div>\n"
            ],
            "application/vnd.google.colaboratory.intrinsic+json": {
              "type": "dataframe",
              "variable_name": "df"
            }
          },
          "metadata": {},
          "execution_count": 2
        }
      ]
    },
    {
      "cell_type": "markdown",
      "source": [
        "**PART 1 - Categoricals**"
      ],
      "metadata": {
        "id": "O_ztVxGR5jyX"
      }
    },
    {
      "cell_type": "markdown",
      "source": [
        "```\n",
        "Check for null values in all the columns\n",
        "```"
      ],
      "metadata": {
        "id": "p-dxjoD_Lrfx"
      }
    },
    {
      "cell_type": "code",
      "source": [
        "categorical_columns = df.select_dtypes(include='object')\n",
        "numerical_columns = df.select_dtypes(exclude='object')"
      ],
      "metadata": {
        "id": "Dq0f2Pfm4mfv"
      },
      "execution_count": 3,
      "outputs": []
    },
    {
      "cell_type": "code",
      "source": [
        "df1 = categorical_columns"
      ],
      "metadata": {
        "id": "6mkT5xzq5Ftz"
      },
      "execution_count": 4,
      "outputs": []
    },
    {
      "cell_type": "code",
      "source": [
        "df1.isnull().sum()"
      ],
      "metadata": {
        "colab": {
          "base_uri": "https://localhost:8080/"
        },
        "id": "NU0KkjVlKyju",
        "outputId": "cb541e86-4414-4822-81d8-8b8c270fa43d"
      },
      "execution_count": 5,
      "outputs": [
        {
          "output_type": "execute_result",
          "data": {
            "text/plain": [
              "OSOURCE       0\n",
              "STATE         0\n",
              "ZIP           0\n",
              "MAILCODE      0\n",
              "PVASTATE      0\n",
              "           ... \n",
              "RFA_2A        0\n",
              "MDMAUD_R      0\n",
              "MDMAUD_F      0\n",
              "MDMAUD_A      0\n",
              "GEOCODE2    132\n",
              "Length: 74, dtype: int64"
            ]
          },
          "metadata": {},
          "execution_count": 5
        }
      ]
    },
    {
      "cell_type": "markdown",
      "source": [
        "```\n",
        "Exclude the following variables by looking at the definitions. Create a new empty list called drop_list. We will append this list and then drop all the columns in this list later:\n",
        "\n",
        "OSOURCE - symbol definitions not provided, too many\n",
        "categories\n",
        "ZIP CODE - we are including state already\n",
        "```"
      ],
      "metadata": {
        "id": "lGVBFP3GMFOY"
      }
    },
    {
      "cell_type": "code",
      "source": [
        "df2 = df1.copy()"
      ],
      "metadata": {
        "id": "nHodg22cQRLI"
      },
      "execution_count": 6,
      "outputs": []
    },
    {
      "cell_type": "code",
      "source": [
        "exclude_columns = ['OSOURCE', 'ZIP CODE']\n",
        "\n",
        "drop_list = []\n",
        "\n",
        "for col in exclude_columns:\n",
        "  if col in df2.columns:\n",
        "    drop_list.append(col)\n",
        "\n",
        "df2 = df2.drop(columns=drop_list)"
      ],
      "metadata": {
        "id": "8D0UuesrLmHj"
      },
      "execution_count": 7,
      "outputs": []
    },
    {
      "cell_type": "markdown",
      "source": [
        "```\n",
        "Identify columns that over 85% missing values and remove those columns from the dataframe\n",
        "```"
      ],
      "metadata": {
        "id": "GeKhtzp3M-ks"
      }
    },
    {
      "cell_type": "code",
      "source": [
        "df3 = df2.copy()"
      ],
      "metadata": {
        "id": "aCUyRAkXQXQp"
      },
      "execution_count": 8,
      "outputs": []
    },
    {
      "cell_type": "code",
      "source": [
        "percentage = 0.85\n",
        "\n",
        "missing_percentage = (df3.isnull().sum() / len(df)) * 100\n",
        "\n",
        "drop_columns = missing_percentage[missing_percentage > percentage].index.tolist()\n",
        "\n",
        "df3 = df3.drop(columns=drop_columns)"
      ],
      "metadata": {
        "id": "8zJQlDCSM6g1"
      },
      "execution_count": 9,
      "outputs": []
    },
    {
      "cell_type": "markdown",
      "source": [
        "```\n",
        "Reduce the number of categories in the column GENDER. The column should only have either \"M\" for males, \"F\" for females, and \"other\" for all the rest\n",
        "\n",
        "Note that there are a few null values in the column. We will first replace those null values using the code below:\n",
        "print(categorical['GENDER'].value_counts())\n",
        "categorical['GENDER'] = categorical['GENDER'].fillna('F')\n",
        "```"
      ],
      "metadata": {
        "id": "DYx4vkZONt-B"
      }
    },
    {
      "cell_type": "code",
      "source": [
        "df4 = df3.copy()"
      ],
      "metadata": {
        "id": "E-2gp1LNQc50"
      },
      "execution_count": 24,
      "outputs": []
    },
    {
      "cell_type": "code",
      "source": [
        "df4['GENDER'].isnull().sum()"
      ],
      "metadata": {
        "colab": {
          "base_uri": "https://localhost:8080/"
        },
        "id": "cbSMDxi_QnVC",
        "outputId": "86e69efd-d6e7-48bf-e150-326bc2b679c8"
      },
      "execution_count": 25,
      "outputs": [
        {
          "output_type": "execute_result",
          "data": {
            "text/plain": [
              "0"
            ]
          },
          "metadata": {},
          "execution_count": 25
        }
      ]
    },
    {
      "cell_type": "code",
      "source": [
        "df4['GENDER'].value_counts()"
      ],
      "metadata": {
        "colab": {
          "base_uri": "https://localhost:8080/"
        },
        "id": "AzGMjDUQNkYu",
        "outputId": "80172928-c611-4d7b-bf11-542d0ab8c9fd"
      },
      "execution_count": 26,
      "outputs": [
        {
          "output_type": "execute_result",
          "data": {
            "text/plain": [
              "F    51277\n",
              "M    39094\n",
              "      2957\n",
              "U     1715\n",
              "J      365\n",
              "C        2\n",
              "A        2\n",
              "Name: GENDER, dtype: int64"
            ]
          },
          "metadata": {},
          "execution_count": 26
        }
      ]
    },
    {
      "cell_type": "code",
      "source": [
        "df4['GENDER'] = df3['GENDER'].fillna('F')"
      ],
      "metadata": {
        "id": "-eSK55SDOAlt"
      },
      "execution_count": 27,
      "outputs": []
    },
    {
      "cell_type": "code",
      "source": [
        "change_values = {'M': 'M', 'F': 'F', 'other': 'other', 'U': 'other', 'J': 'other', 'C': 'other', 'A': 'other', ' ': 'F' }\n",
        "\n",
        "# Here I'm guessing the blank space is the null values"
      ],
      "metadata": {
        "id": "Er3_JGXNOawR"
      },
      "execution_count": 28,
      "outputs": []
    },
    {
      "cell_type": "code",
      "source": [
        "df4['GENDER'] = df4['GENDER'].map(change_values)"
      ],
      "metadata": {
        "id": "TCzf27CcO-Ox"
      },
      "execution_count": 29,
      "outputs": []
    },
    {
      "cell_type": "code",
      "source": [
        "df4['GENDER'].value_counts()"
      ],
      "metadata": {
        "colab": {
          "base_uri": "https://localhost:8080/"
        },
        "id": "c0rWFlrAPdZg",
        "outputId": "f5802347-deb5-4ce2-abf0-467932a6d522"
      },
      "execution_count": 30,
      "outputs": [
        {
          "output_type": "execute_result",
          "data": {
            "text/plain": [
              "F        54234\n",
              "M        39094\n",
              "other     2084\n",
              "Name: GENDER, dtype: int64"
            ]
          },
          "metadata": {},
          "execution_count": 30
        }
      ]
    },
    {
      "cell_type": "markdown",
      "source": [
        "**PART 2 - Numericals**"
      ],
      "metadata": {
        "id": "DOJhFfGY5cUb"
      }
    },
    {
      "cell_type": "code",
      "source": [
        "df5 = numerical_columns"
      ],
      "metadata": {
        "id": "bQI9Jrfq5vK6"
      },
      "execution_count": 17,
      "outputs": []
    },
    {
      "cell_type": "markdown",
      "source": [
        "```\n",
        "Check for null values in the numerical columns.\n",
        "```"
      ],
      "metadata": {
        "id": "uFavrlrZ4IW3"
      }
    },
    {
      "cell_type": "code",
      "source": [
        "df5.isnull().sum()"
      ],
      "metadata": {
        "colab": {
          "base_uri": "https://localhost:8080/"
        },
        "id": "FLpaldtF5oib",
        "outputId": "3c5da811-bf79-42b2-dd0c-9d4ec7f86ddd"
      },
      "execution_count": 18,
      "outputs": [
        {
          "output_type": "execute_result",
          "data": {
            "text/plain": [
              "ODATEDW         0\n",
              "TCODE           0\n",
              "DOB             0\n",
              "AGE         23665\n",
              "NUMCHLD     83026\n",
              "            ...  \n",
              "TARGET_B        0\n",
              "TARGET_D        0\n",
              "HPHONE_D        0\n",
              "RFA_2F          0\n",
              "CLUSTER2      132\n",
              "Length: 407, dtype: int64"
            ]
          },
          "metadata": {},
          "execution_count": 18
        }
      ]
    },
    {
      "cell_type": "markdown",
      "source": [
        "```\n",
        "Use appropriate methods to clean the columns GEOCODE2, WEALTH1, ADI, DMA,and MSA.\n",
        "```"
      ],
      "metadata": {
        "id": "Gix1Z6hm4OjF"
      }
    },
    {
      "cell_type": "code",
      "source": [
        "df4_1 = df4.copy()"
      ],
      "metadata": {
        "id": "Vp3Ggy1G9Mwj"
      },
      "execution_count": 80,
      "outputs": []
    },
    {
      "cell_type": "code",
      "source": [
        "df4_1['GEOCODE2'].value_counts()"
      ],
      "metadata": {
        "colab": {
          "base_uri": "https://localhost:8080/"
        },
        "id": "RGZn65u18Tgg",
        "outputId": "2e6a9337-9184-45ff-8510-6baaaa8b06bd"
      },
      "execution_count": 81,
      "outputs": [
        {
          "output_type": "execute_result",
          "data": {
            "text/plain": [
              "A    34484\n",
              "B    28505\n",
              "D    16580\n",
              "C    15524\n",
              "       187\n",
              "Name: GEOCODE2, dtype: int64"
            ]
          },
          "metadata": {},
          "execution_count": 81
        }
      ]
    },
    {
      "cell_type": "code",
      "source": [
        "change_values2 = {'A': 'A', 'B': 'B', 'C': 'C', 'D': 'D', ' ': 'A'}"
      ],
      "metadata": {
        "id": "r-TvkYXY8fXK"
      },
      "execution_count": 82,
      "outputs": []
    },
    {
      "cell_type": "code",
      "source": [
        "df4_1['GEOCODE2'] = df4_1['GEOCODE2'].map(change_values2)"
      ],
      "metadata": {
        "id": "8R_pbI4v8l5p"
      },
      "execution_count": 83,
      "outputs": []
    },
    {
      "cell_type": "code",
      "source": [
        "df4_1['GEOCODE2'].value_counts()"
      ],
      "metadata": {
        "colab": {
          "base_uri": "https://localhost:8080/"
        },
        "id": "vdS68lBw8rWY",
        "outputId": "2712bbe0-5f66-425b-8c17-db78b0ec014f"
      },
      "execution_count": 84,
      "outputs": [
        {
          "output_type": "execute_result",
          "data": {
            "text/plain": [
              "A    34671\n",
              "B    28505\n",
              "D    16580\n",
              "C    15524\n",
              "Name: GEOCODE2, dtype: int64"
            ]
          },
          "metadata": {},
          "execution_count": 84
        }
      ]
    },
    {
      "cell_type": "code",
      "source": [
        "df6 = df5.copy()"
      ],
      "metadata": {
        "id": "iQGTKazq5pIN"
      },
      "execution_count": 118,
      "outputs": []
    },
    {
      "cell_type": "code",
      "source": [
        "df6['WEALTH1'].value_counts()"
      ],
      "metadata": {
        "colab": {
          "base_uri": "https://localhost:8080/"
        },
        "id": "PtJepc5-7dan",
        "outputId": "06b5edbb-19c3-44d1-90c2-e01017b1af59"
      },
      "execution_count": 119,
      "outputs": [
        {
          "output_type": "execute_result",
          "data": {
            "text/plain": [
              "9.0    7585\n",
              "8.0    6793\n",
              "7.0    6198\n",
              "6.0    5825\n",
              "5.0    5280\n",
              "4.0    4810\n",
              "3.0    4237\n",
              "2.0    4085\n",
              "1.0    3454\n",
              "0.0    2413\n",
              "Name: WEALTH1, dtype: int64"
            ]
          },
          "metadata": {},
          "execution_count": 119
        }
      ]
    },
    {
      "cell_type": "code",
      "source": [
        "df6['WEALTH1'] = df6['WEALTH1'].astype(str).apply(lambda x: x.replace('.0', '') if pd.notna(x) else x)\n"
      ],
      "metadata": {
        "id": "eTcbApO-AdcQ"
      },
      "execution_count": 120,
      "outputs": []
    },
    {
      "cell_type": "code",
      "source": [
        "df6['WEALTH1'].value_counts()"
      ],
      "metadata": {
        "colab": {
          "base_uri": "https://localhost:8080/"
        },
        "id": "zFUki35QAlPu",
        "outputId": "927046fc-91a4-4a74-ab98-a1807206f260"
      },
      "execution_count": 121,
      "outputs": [
        {
          "output_type": "execute_result",
          "data": {
            "text/plain": [
              "nan    44732\n",
              "9       7585\n",
              "8       6793\n",
              "7       6198\n",
              "6       5825\n",
              "5       5280\n",
              "4       4810\n",
              "3       4237\n",
              "2       4085\n",
              "1       3454\n",
              "0       2413\n",
              "Name: WEALTH1, dtype: int64"
            ]
          },
          "metadata": {},
          "execution_count": 121
        }
      ]
    },
    {
      "cell_type": "code",
      "source": [
        "df6['ADI'].value_counts()"
      ],
      "metadata": {
        "colab": {
          "base_uri": "https://localhost:8080/"
        },
        "id": "of-jYT_mBHCu",
        "outputId": "a547da62-db18-402e-ebd7-596dcb30da09"
      },
      "execution_count": 122,
      "outputs": [
        {
          "output_type": "execute_result",
          "data": {
            "text/plain": [
              "13.0     7296\n",
              "51.0     4622\n",
              "65.0     3765\n",
              "57.0     2836\n",
              "105.0    2617\n",
              "         ... \n",
              "651.0       1\n",
              "103.0       1\n",
              "601.0       1\n",
              "161.0       1\n",
              "147.0       1\n",
              "Name: ADI, Length: 204, dtype: int64"
            ]
          },
          "metadata": {},
          "execution_count": 122
        }
      ]
    },
    {
      "cell_type": "code",
      "source": [
        "df6['ADI'] = df6['ADI'].astype(str).apply(lambda x: x.replace('.0', '') if pd.notna(x) else x)\n"
      ],
      "metadata": {
        "id": "jGJVpxEwBUGy"
      },
      "execution_count": 124,
      "outputs": []
    },
    {
      "cell_type": "code",
      "source": [
        "df6['ADI'].value_counts()"
      ],
      "metadata": {
        "colab": {
          "base_uri": "https://localhost:8080/"
        },
        "id": "OiD4x_rKBXnC",
        "outputId": "f90e041c-dddc-44a0-a89f-11fb4b1a8586"
      },
      "execution_count": 125,
      "outputs": [
        {
          "output_type": "execute_result",
          "data": {
            "text/plain": [
              "13     7296\n",
              "51     4622\n",
              "65     3765\n",
              "57     2836\n",
              "105    2617\n",
              "       ... \n",
              "651       1\n",
              "103       1\n",
              "601       1\n",
              "161       1\n",
              "147       1\n",
              "Name: ADI, Length: 205, dtype: int64"
            ]
          },
          "metadata": {},
          "execution_count": 125
        }
      ]
    },
    {
      "cell_type": "code",
      "source": [
        "df6['DMA'].value_counts()"
      ],
      "metadata": {
        "colab": {
          "base_uri": "https://localhost:8080/"
        },
        "id": "e_XV1BXI7dfk",
        "outputId": "4741cfe1-6cf2-4a10-b2ed-50f54a47b0ad"
      },
      "execution_count": 123,
      "outputs": [
        {
          "output_type": "execute_result",
          "data": {
            "text/plain": [
              "803.0    7296\n",
              "602.0    4632\n",
              "807.0    3765\n",
              "505.0    2839\n",
              "819.0    2588\n",
              "         ... \n",
              "569.0       1\n",
              "554.0       1\n",
              "584.0       1\n",
              "552.0       1\n",
              "516.0       1\n",
              "Name: DMA, Length: 206, dtype: int64"
            ]
          },
          "metadata": {},
          "execution_count": 123
        }
      ]
    },
    {
      "cell_type": "code",
      "source": [
        "df6['DMA'] = df6['DMA'].astype(str).apply(lambda x: x.replace('.0', '') if pd.notna(x) else x)\n"
      ],
      "metadata": {
        "id": "J0NQvLIbBaAg"
      },
      "execution_count": 126,
      "outputs": []
    },
    {
      "cell_type": "code",
      "source": [
        "df6['DMA'].value_counts()"
      ],
      "metadata": {
        "colab": {
          "base_uri": "https://localhost:8080/"
        },
        "id": "SwOJR8-pBdjn",
        "outputId": "dfe39394-c1fc-4e6c-bd33-e73b7cddd9ee"
      },
      "execution_count": 127,
      "outputs": [
        {
          "output_type": "execute_result",
          "data": {
            "text/plain": [
              "803    7296\n",
              "602    4632\n",
              "807    3765\n",
              "505    2839\n",
              "819    2588\n",
              "       ... \n",
              "569       1\n",
              "554       1\n",
              "584       1\n",
              "552       1\n",
              "516       1\n",
              "Name: DMA, Length: 207, dtype: int64"
            ]
          },
          "metadata": {},
          "execution_count": 127
        }
      ]
    },
    {
      "cell_type": "code",
      "source": [
        "df6['MSA'].value_counts()"
      ],
      "metadata": {
        "colab": {
          "base_uri": "https://localhost:8080/"
        },
        "id": "1deRJxrB78s9",
        "outputId": "8326ad97-9657-4dae-9673-c645468132e3"
      },
      "execution_count": 87,
      "outputs": [
        {
          "output_type": "execute_result",
          "data": {
            "text/plain": [
              "0.0       21333\n",
              "4480.0     4606\n",
              "1600.0     4059\n",
              "2160.0     2586\n",
              "520.0      1685\n",
              "          ...  \n",
              "9140.0        1\n",
              "3200.0        1\n",
              "9280.0        1\n",
              "743.0         1\n",
              "8480.0        1\n",
              "Name: MSA, Length: 298, dtype: int64"
            ]
          },
          "metadata": {},
          "execution_count": 87
        }
      ]
    },
    {
      "cell_type": "code",
      "source": [
        "df6['MSA'] = df6['MSA'].astype(str).apply(lambda x: x.replace('.0', '') if pd.notna(x) else x)\n"
      ],
      "metadata": {
        "id": "hvtrXpieBgYE"
      },
      "execution_count": 128,
      "outputs": []
    },
    {
      "cell_type": "code",
      "source": [
        "df6['MSA'].value_counts()"
      ],
      "metadata": {
        "colab": {
          "base_uri": "https://localhost:8080/"
        },
        "id": "2awyQQKhBin-",
        "outputId": "486c8290-b548-46f2-d4d9-51bde314399d"
      },
      "execution_count": 129,
      "outputs": [
        {
          "output_type": "execute_result",
          "data": {
            "text/plain": [
              "0       21333\n",
              "4480     4606\n",
              "1600     4059\n",
              "2160     2586\n",
              "520      1685\n",
              "        ...  \n",
              "9140        1\n",
              "3200        1\n",
              "9280        1\n",
              "743         1\n",
              "8480        1\n",
              "Name: MSA, Length: 299, dtype: int64"
            ]
          },
          "metadata": {},
          "execution_count": 129
        }
      ]
    },
    {
      "cell_type": "markdown",
      "source": [
        "```\n",
        "Use appropriate EDA technique where ever necessary.\n",
        "```"
      ],
      "metadata": {
        "id": "8JmHbXG_4Oux"
      }
    },
    {
      "cell_type": "code",
      "source": [
        "df6.describe()"
      ],
      "metadata": {
        "colab": {
          "base_uri": "https://localhost:8080/",
          "height": 350
        },
        "id": "OfrFMNuj5piw",
        "outputId": "75770991-700b-4aee-e18e-a0b0866d8a46"
      },
      "execution_count": 130,
      "outputs": [
        {
          "output_type": "execute_result",
          "data": {
            "text/plain": [
              "            ODATEDW         TCODE           DOB           AGE       NUMCHLD  \\\n",
              "count  95412.000000  95412.000000  95412.000000  71747.000000  12386.000000   \n",
              "mean    9141.363256     54.223117   2723.602933     61.611649      1.527773   \n",
              "std      343.454752    953.844476   2132.241295     16.664199      0.806861   \n",
              "min     8306.000000      0.000000      0.000000      1.000000      1.000000   \n",
              "25%     8801.000000      0.000000    201.000000     48.000000      1.000000   \n",
              "50%     9201.000000      1.000000   2610.000000     62.000000      1.000000   \n",
              "75%     9501.000000      2.000000   4601.000000     75.000000      2.000000   \n",
              "max     9701.000000  72002.000000   9710.000000     98.000000      7.000000   \n",
              "\n",
              "             INCOME           HIT       MBCRAFT      MBGARDEN       MBBOOKS  \\\n",
              "count  74126.000000  95412.000000  42558.000000  42558.000000  42558.000000   \n",
              "mean       3.886248      3.321438      0.152075      0.059166      1.116382   \n",
              "std        1.854960      9.306899      0.470023      0.262078      1.669967   \n",
              "min        1.000000      0.000000      0.000000      0.000000      0.000000   \n",
              "25%        2.000000      0.000000      0.000000      0.000000      0.000000   \n",
              "50%        4.000000      0.000000      0.000000      0.000000      0.000000   \n",
              "75%        5.000000      3.000000      0.000000      0.000000      2.000000   \n",
              "max        7.000000    241.000000      6.000000      4.000000      9.000000   \n",
              "\n",
              "       ...      FISTDATE      NEXTDATE       TIMELAG       AVGGIFT  \\\n",
              "count  ...  95412.000000  85439.000000  85439.000000  95412.000000   \n",
              "mean   ...   9135.651648   9151.022917      8.093739     13.347786   \n",
              "std    ...    320.394019    294.257260      8.213242     10.769997   \n",
              "min    ...      0.000000   7211.000000      0.000000      1.285714   \n",
              "25%    ...   8810.000000   8903.000000      4.000000      8.384615   \n",
              "50%    ...   9201.000000   9204.000000      6.000000     11.636364   \n",
              "75%    ...   9409.000000   9409.000000     11.000000     15.477955   \n",
              "max    ...   9603.000000   9702.000000   1088.000000   1000.000000   \n",
              "\n",
              "            CONTROLN      TARGET_B      TARGET_D      HPHONE_D        RFA_2F  \\\n",
              "count   95412.000000  95412.000000  95412.000000  95412.000000  95412.000000   \n",
              "mean    95778.176959      0.050759      0.793073      0.500618      1.910053   \n",
              "std     55284.596094      0.219506      4.429725      0.500002      1.072749   \n",
              "min         1.000000      0.000000      0.000000      0.000000      1.000000   \n",
              "25%     47910.750000      0.000000      0.000000      0.000000      1.000000   \n",
              "50%     95681.500000      0.000000      0.000000      1.000000      2.000000   \n",
              "75%    143643.500000      0.000000      0.000000      1.000000      3.000000   \n",
              "max    191779.000000      1.000000    200.000000      1.000000      4.000000   \n",
              "\n",
              "           CLUSTER2  \n",
              "count  95280.000000  \n",
              "mean      31.533711  \n",
              "std       18.764614  \n",
              "min        1.000000  \n",
              "25%       15.000000  \n",
              "50%       32.000000  \n",
              "75%       49.000000  \n",
              "max       62.000000  \n",
              "\n",
              "[8 rows x 403 columns]"
            ],
            "text/html": [
              "\n",
              "  <div id=\"df-85c5593d-3959-4e45-ad37-3060fc0319e0\" class=\"colab-df-container\">\n",
              "    <div>\n",
              "<style scoped>\n",
              "    .dataframe tbody tr th:only-of-type {\n",
              "        vertical-align: middle;\n",
              "    }\n",
              "\n",
              "    .dataframe tbody tr th {\n",
              "        vertical-align: top;\n",
              "    }\n",
              "\n",
              "    .dataframe thead th {\n",
              "        text-align: right;\n",
              "    }\n",
              "</style>\n",
              "<table border=\"1\" class=\"dataframe\">\n",
              "  <thead>\n",
              "    <tr style=\"text-align: right;\">\n",
              "      <th></th>\n",
              "      <th>ODATEDW</th>\n",
              "      <th>TCODE</th>\n",
              "      <th>DOB</th>\n",
              "      <th>AGE</th>\n",
              "      <th>NUMCHLD</th>\n",
              "      <th>INCOME</th>\n",
              "      <th>HIT</th>\n",
              "      <th>MBCRAFT</th>\n",
              "      <th>MBGARDEN</th>\n",
              "      <th>MBBOOKS</th>\n",
              "      <th>...</th>\n",
              "      <th>FISTDATE</th>\n",
              "      <th>NEXTDATE</th>\n",
              "      <th>TIMELAG</th>\n",
              "      <th>AVGGIFT</th>\n",
              "      <th>CONTROLN</th>\n",
              "      <th>TARGET_B</th>\n",
              "      <th>TARGET_D</th>\n",
              "      <th>HPHONE_D</th>\n",
              "      <th>RFA_2F</th>\n",
              "      <th>CLUSTER2</th>\n",
              "    </tr>\n",
              "  </thead>\n",
              "  <tbody>\n",
              "    <tr>\n",
              "      <th>count</th>\n",
              "      <td>95412.000000</td>\n",
              "      <td>95412.000000</td>\n",
              "      <td>95412.000000</td>\n",
              "      <td>71747.000000</td>\n",
              "      <td>12386.000000</td>\n",
              "      <td>74126.000000</td>\n",
              "      <td>95412.000000</td>\n",
              "      <td>42558.000000</td>\n",
              "      <td>42558.000000</td>\n",
              "      <td>42558.000000</td>\n",
              "      <td>...</td>\n",
              "      <td>95412.000000</td>\n",
              "      <td>85439.000000</td>\n",
              "      <td>85439.000000</td>\n",
              "      <td>95412.000000</td>\n",
              "      <td>95412.000000</td>\n",
              "      <td>95412.000000</td>\n",
              "      <td>95412.000000</td>\n",
              "      <td>95412.000000</td>\n",
              "      <td>95412.000000</td>\n",
              "      <td>95280.000000</td>\n",
              "    </tr>\n",
              "    <tr>\n",
              "      <th>mean</th>\n",
              "      <td>9141.363256</td>\n",
              "      <td>54.223117</td>\n",
              "      <td>2723.602933</td>\n",
              "      <td>61.611649</td>\n",
              "      <td>1.527773</td>\n",
              "      <td>3.886248</td>\n",
              "      <td>3.321438</td>\n",
              "      <td>0.152075</td>\n",
              "      <td>0.059166</td>\n",
              "      <td>1.116382</td>\n",
              "      <td>...</td>\n",
              "      <td>9135.651648</td>\n",
              "      <td>9151.022917</td>\n",
              "      <td>8.093739</td>\n",
              "      <td>13.347786</td>\n",
              "      <td>95778.176959</td>\n",
              "      <td>0.050759</td>\n",
              "      <td>0.793073</td>\n",
              "      <td>0.500618</td>\n",
              "      <td>1.910053</td>\n",
              "      <td>31.533711</td>\n",
              "    </tr>\n",
              "    <tr>\n",
              "      <th>std</th>\n",
              "      <td>343.454752</td>\n",
              "      <td>953.844476</td>\n",
              "      <td>2132.241295</td>\n",
              "      <td>16.664199</td>\n",
              "      <td>0.806861</td>\n",
              "      <td>1.854960</td>\n",
              "      <td>9.306899</td>\n",
              "      <td>0.470023</td>\n",
              "      <td>0.262078</td>\n",
              "      <td>1.669967</td>\n",
              "      <td>...</td>\n",
              "      <td>320.394019</td>\n",
              "      <td>294.257260</td>\n",
              "      <td>8.213242</td>\n",
              "      <td>10.769997</td>\n",
              "      <td>55284.596094</td>\n",
              "      <td>0.219506</td>\n",
              "      <td>4.429725</td>\n",
              "      <td>0.500002</td>\n",
              "      <td>1.072749</td>\n",
              "      <td>18.764614</td>\n",
              "    </tr>\n",
              "    <tr>\n",
              "      <th>min</th>\n",
              "      <td>8306.000000</td>\n",
              "      <td>0.000000</td>\n",
              "      <td>0.000000</td>\n",
              "      <td>1.000000</td>\n",
              "      <td>1.000000</td>\n",
              "      <td>1.000000</td>\n",
              "      <td>0.000000</td>\n",
              "      <td>0.000000</td>\n",
              "      <td>0.000000</td>\n",
              "      <td>0.000000</td>\n",
              "      <td>...</td>\n",
              "      <td>0.000000</td>\n",
              "      <td>7211.000000</td>\n",
              "      <td>0.000000</td>\n",
              "      <td>1.285714</td>\n",
              "      <td>1.000000</td>\n",
              "      <td>0.000000</td>\n",
              "      <td>0.000000</td>\n",
              "      <td>0.000000</td>\n",
              "      <td>1.000000</td>\n",
              "      <td>1.000000</td>\n",
              "    </tr>\n",
              "    <tr>\n",
              "      <th>25%</th>\n",
              "      <td>8801.000000</td>\n",
              "      <td>0.000000</td>\n",
              "      <td>201.000000</td>\n",
              "      <td>48.000000</td>\n",
              "      <td>1.000000</td>\n",
              "      <td>2.000000</td>\n",
              "      <td>0.000000</td>\n",
              "      <td>0.000000</td>\n",
              "      <td>0.000000</td>\n",
              "      <td>0.000000</td>\n",
              "      <td>...</td>\n",
              "      <td>8810.000000</td>\n",
              "      <td>8903.000000</td>\n",
              "      <td>4.000000</td>\n",
              "      <td>8.384615</td>\n",
              "      <td>47910.750000</td>\n",
              "      <td>0.000000</td>\n",
              "      <td>0.000000</td>\n",
              "      <td>0.000000</td>\n",
              "      <td>1.000000</td>\n",
              "      <td>15.000000</td>\n",
              "    </tr>\n",
              "    <tr>\n",
              "      <th>50%</th>\n",
              "      <td>9201.000000</td>\n",
              "      <td>1.000000</td>\n",
              "      <td>2610.000000</td>\n",
              "      <td>62.000000</td>\n",
              "      <td>1.000000</td>\n",
              "      <td>4.000000</td>\n",
              "      <td>0.000000</td>\n",
              "      <td>0.000000</td>\n",
              "      <td>0.000000</td>\n",
              "      <td>0.000000</td>\n",
              "      <td>...</td>\n",
              "      <td>9201.000000</td>\n",
              "      <td>9204.000000</td>\n",
              "      <td>6.000000</td>\n",
              "      <td>11.636364</td>\n",
              "      <td>95681.500000</td>\n",
              "      <td>0.000000</td>\n",
              "      <td>0.000000</td>\n",
              "      <td>1.000000</td>\n",
              "      <td>2.000000</td>\n",
              "      <td>32.000000</td>\n",
              "    </tr>\n",
              "    <tr>\n",
              "      <th>75%</th>\n",
              "      <td>9501.000000</td>\n",
              "      <td>2.000000</td>\n",
              "      <td>4601.000000</td>\n",
              "      <td>75.000000</td>\n",
              "      <td>2.000000</td>\n",
              "      <td>5.000000</td>\n",
              "      <td>3.000000</td>\n",
              "      <td>0.000000</td>\n",
              "      <td>0.000000</td>\n",
              "      <td>2.000000</td>\n",
              "      <td>...</td>\n",
              "      <td>9409.000000</td>\n",
              "      <td>9409.000000</td>\n",
              "      <td>11.000000</td>\n",
              "      <td>15.477955</td>\n",
              "      <td>143643.500000</td>\n",
              "      <td>0.000000</td>\n",
              "      <td>0.000000</td>\n",
              "      <td>1.000000</td>\n",
              "      <td>3.000000</td>\n",
              "      <td>49.000000</td>\n",
              "    </tr>\n",
              "    <tr>\n",
              "      <th>max</th>\n",
              "      <td>9701.000000</td>\n",
              "      <td>72002.000000</td>\n",
              "      <td>9710.000000</td>\n",
              "      <td>98.000000</td>\n",
              "      <td>7.000000</td>\n",
              "      <td>7.000000</td>\n",
              "      <td>241.000000</td>\n",
              "      <td>6.000000</td>\n",
              "      <td>4.000000</td>\n",
              "      <td>9.000000</td>\n",
              "      <td>...</td>\n",
              "      <td>9603.000000</td>\n",
              "      <td>9702.000000</td>\n",
              "      <td>1088.000000</td>\n",
              "      <td>1000.000000</td>\n",
              "      <td>191779.000000</td>\n",
              "      <td>1.000000</td>\n",
              "      <td>200.000000</td>\n",
              "      <td>1.000000</td>\n",
              "      <td>4.000000</td>\n",
              "      <td>62.000000</td>\n",
              "    </tr>\n",
              "  </tbody>\n",
              "</table>\n",
              "<p>8 rows × 403 columns</p>\n",
              "</div>\n",
              "    <div class=\"colab-df-buttons\">\n",
              "\n",
              "  <div class=\"colab-df-container\">\n",
              "    <button class=\"colab-df-convert\" onclick=\"convertToInteractive('df-85c5593d-3959-4e45-ad37-3060fc0319e0')\"\n",
              "            title=\"Convert this dataframe to an interactive table.\"\n",
              "            style=\"display:none;\">\n",
              "\n",
              "  <svg xmlns=\"http://www.w3.org/2000/svg\" height=\"24px\" viewBox=\"0 -960 960 960\">\n",
              "    <path d=\"M120-120v-720h720v720H120Zm60-500h600v-160H180v160Zm220 220h160v-160H400v160Zm0 220h160v-160H400v160ZM180-400h160v-160H180v160Zm440 0h160v-160H620v160ZM180-180h160v-160H180v160Zm440 0h160v-160H620v160Z\"/>\n",
              "  </svg>\n",
              "    </button>\n",
              "\n",
              "  <style>\n",
              "    .colab-df-container {\n",
              "      display:flex;\n",
              "      gap: 12px;\n",
              "    }\n",
              "\n",
              "    .colab-df-convert {\n",
              "      background-color: #E8F0FE;\n",
              "      border: none;\n",
              "      border-radius: 50%;\n",
              "      cursor: pointer;\n",
              "      display: none;\n",
              "      fill: #1967D2;\n",
              "      height: 32px;\n",
              "      padding: 0 0 0 0;\n",
              "      width: 32px;\n",
              "    }\n",
              "\n",
              "    .colab-df-convert:hover {\n",
              "      background-color: #E2EBFA;\n",
              "      box-shadow: 0px 1px 2px rgba(60, 64, 67, 0.3), 0px 1px 3px 1px rgba(60, 64, 67, 0.15);\n",
              "      fill: #174EA6;\n",
              "    }\n",
              "\n",
              "    .colab-df-buttons div {\n",
              "      margin-bottom: 4px;\n",
              "    }\n",
              "\n",
              "    [theme=dark] .colab-df-convert {\n",
              "      background-color: #3B4455;\n",
              "      fill: #D2E3FC;\n",
              "    }\n",
              "\n",
              "    [theme=dark] .colab-df-convert:hover {\n",
              "      background-color: #434B5C;\n",
              "      box-shadow: 0px 1px 3px 1px rgba(0, 0, 0, 0.15);\n",
              "      filter: drop-shadow(0px 1px 2px rgba(0, 0, 0, 0.3));\n",
              "      fill: #FFFFFF;\n",
              "    }\n",
              "  </style>\n",
              "\n",
              "    <script>\n",
              "      const buttonEl =\n",
              "        document.querySelector('#df-85c5593d-3959-4e45-ad37-3060fc0319e0 button.colab-df-convert');\n",
              "      buttonEl.style.display =\n",
              "        google.colab.kernel.accessAllowed ? 'block' : 'none';\n",
              "\n",
              "      async function convertToInteractive(key) {\n",
              "        const element = document.querySelector('#df-85c5593d-3959-4e45-ad37-3060fc0319e0');\n",
              "        const dataTable =\n",
              "          await google.colab.kernel.invokeFunction('convertToInteractive',\n",
              "                                                    [key], {});\n",
              "        if (!dataTable) return;\n",
              "\n",
              "        const docLinkHtml = 'Like what you see? Visit the ' +\n",
              "          '<a target=\"_blank\" href=https://colab.research.google.com/notebooks/data_table.ipynb>data table notebook</a>'\n",
              "          + ' to learn more about interactive tables.';\n",
              "        element.innerHTML = '';\n",
              "        dataTable['output_type'] = 'display_data';\n",
              "        await google.colab.output.renderOutput(dataTable, element);\n",
              "        const docLink = document.createElement('div');\n",
              "        docLink.innerHTML = docLinkHtml;\n",
              "        element.appendChild(docLink);\n",
              "      }\n",
              "    </script>\n",
              "  </div>\n",
              "\n",
              "\n",
              "<div id=\"df-b3b895ad-1460-4410-b932-0d6b6b2517bd\">\n",
              "  <button class=\"colab-df-quickchart\" onclick=\"quickchart('df-b3b895ad-1460-4410-b932-0d6b6b2517bd')\"\n",
              "            title=\"Suggest charts\"\n",
              "            style=\"display:none;\">\n",
              "\n",
              "<svg xmlns=\"http://www.w3.org/2000/svg\" height=\"24px\"viewBox=\"0 0 24 24\"\n",
              "     width=\"24px\">\n",
              "    <g>\n",
              "        <path d=\"M19 3H5c-1.1 0-2 .9-2 2v14c0 1.1.9 2 2 2h14c1.1 0 2-.9 2-2V5c0-1.1-.9-2-2-2zM9 17H7v-7h2v7zm4 0h-2V7h2v10zm4 0h-2v-4h2v4z\"/>\n",
              "    </g>\n",
              "</svg>\n",
              "  </button>\n",
              "\n",
              "<style>\n",
              "  .colab-df-quickchart {\n",
              "      --bg-color: #E8F0FE;\n",
              "      --fill-color: #1967D2;\n",
              "      --hover-bg-color: #E2EBFA;\n",
              "      --hover-fill-color: #174EA6;\n",
              "      --disabled-fill-color: #AAA;\n",
              "      --disabled-bg-color: #DDD;\n",
              "  }\n",
              "\n",
              "  [theme=dark] .colab-df-quickchart {\n",
              "      --bg-color: #3B4455;\n",
              "      --fill-color: #D2E3FC;\n",
              "      --hover-bg-color: #434B5C;\n",
              "      --hover-fill-color: #FFFFFF;\n",
              "      --disabled-bg-color: #3B4455;\n",
              "      --disabled-fill-color: #666;\n",
              "  }\n",
              "\n",
              "  .colab-df-quickchart {\n",
              "    background-color: var(--bg-color);\n",
              "    border: none;\n",
              "    border-radius: 50%;\n",
              "    cursor: pointer;\n",
              "    display: none;\n",
              "    fill: var(--fill-color);\n",
              "    height: 32px;\n",
              "    padding: 0;\n",
              "    width: 32px;\n",
              "  }\n",
              "\n",
              "  .colab-df-quickchart:hover {\n",
              "    background-color: var(--hover-bg-color);\n",
              "    box-shadow: 0 1px 2px rgba(60, 64, 67, 0.3), 0 1px 3px 1px rgba(60, 64, 67, 0.15);\n",
              "    fill: var(--button-hover-fill-color);\n",
              "  }\n",
              "\n",
              "  .colab-df-quickchart-complete:disabled,\n",
              "  .colab-df-quickchart-complete:disabled:hover {\n",
              "    background-color: var(--disabled-bg-color);\n",
              "    fill: var(--disabled-fill-color);\n",
              "    box-shadow: none;\n",
              "  }\n",
              "\n",
              "  .colab-df-spinner {\n",
              "    border: 2px solid var(--fill-color);\n",
              "    border-color: transparent;\n",
              "    border-bottom-color: var(--fill-color);\n",
              "    animation:\n",
              "      spin 1s steps(1) infinite;\n",
              "  }\n",
              "\n",
              "  @keyframes spin {\n",
              "    0% {\n",
              "      border-color: transparent;\n",
              "      border-bottom-color: var(--fill-color);\n",
              "      border-left-color: var(--fill-color);\n",
              "    }\n",
              "    20% {\n",
              "      border-color: transparent;\n",
              "      border-left-color: var(--fill-color);\n",
              "      border-top-color: var(--fill-color);\n",
              "    }\n",
              "    30% {\n",
              "      border-color: transparent;\n",
              "      border-left-color: var(--fill-color);\n",
              "      border-top-color: var(--fill-color);\n",
              "      border-right-color: var(--fill-color);\n",
              "    }\n",
              "    40% {\n",
              "      border-color: transparent;\n",
              "      border-right-color: var(--fill-color);\n",
              "      border-top-color: var(--fill-color);\n",
              "    }\n",
              "    60% {\n",
              "      border-color: transparent;\n",
              "      border-right-color: var(--fill-color);\n",
              "    }\n",
              "    80% {\n",
              "      border-color: transparent;\n",
              "      border-right-color: var(--fill-color);\n",
              "      border-bottom-color: var(--fill-color);\n",
              "    }\n",
              "    90% {\n",
              "      border-color: transparent;\n",
              "      border-bottom-color: var(--fill-color);\n",
              "    }\n",
              "  }\n",
              "</style>\n",
              "\n",
              "  <script>\n",
              "    async function quickchart(key) {\n",
              "      const quickchartButtonEl =\n",
              "        document.querySelector('#' + key + ' button');\n",
              "      quickchartButtonEl.disabled = true;  // To prevent multiple clicks.\n",
              "      quickchartButtonEl.classList.add('colab-df-spinner');\n",
              "      try {\n",
              "        const charts = await google.colab.kernel.invokeFunction(\n",
              "            'suggestCharts', [key], {});\n",
              "      } catch (error) {\n",
              "        console.error('Error during call to suggestCharts:', error);\n",
              "      }\n",
              "      quickchartButtonEl.classList.remove('colab-df-spinner');\n",
              "      quickchartButtonEl.classList.add('colab-df-quickchart-complete');\n",
              "    }\n",
              "    (() => {\n",
              "      let quickchartButtonEl =\n",
              "        document.querySelector('#df-b3b895ad-1460-4410-b932-0d6b6b2517bd button');\n",
              "      quickchartButtonEl.style.display =\n",
              "        google.colab.kernel.accessAllowed ? 'block' : 'none';\n",
              "    })();\n",
              "  </script>\n",
              "</div>\n",
              "    </div>\n",
              "  </div>\n"
            ],
            "application/vnd.google.colaboratory.intrinsic+json": {
              "type": "dataframe"
            }
          },
          "metadata": {},
          "execution_count": 130
        }
      ]
    }
  ]
}